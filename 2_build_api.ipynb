{
 "cells": [
  {
   "cell_type": "markdown",
   "metadata": {},
   "source": [
    "# Expose Model Through Web API"
   ]
  },
  {
   "cell_type": "markdown",
   "metadata": {},
   "source": [
    "## Build API with Flask"
   ]
  },
  {
   "cell_type": "code",
   "execution_count": null,
   "metadata": {},
   "outputs": [],
   "source": [
    "import threading\n",
    "import pickle\n",
    "import pandas as pd\n",
    "from flask import Flask, request, jsonify\n",
    "\n",
    "app = Flask(__name__)\n",
    "\n",
    "# Load model from pickle file\n",
    "clf = pickle.load(open(\"model.p\", \"rb\"))\n",
    "\n",
    "@app.route('/predict', methods=('POST',))\n",
    "def predict():\n",
    "    request_data = request.get_json()\n",
    "    sample = request_data.get('sample')\n",
    "    test = pd.DataFrame.from_dict(sample)\n",
    "    result = clf.predict(test)\n",
    "    \n",
    "    return jsonify(result.tolist())\n",
    "\n",
    "# Run the app\n",
    "if __name__ == '__main__':\n",
    "    t = threading.Thread(target=app.run)\n",
    "    t.start()"
   ]
  },
  {
   "cell_type": "markdown",
   "metadata": {},
   "source": [
    "## Test API with POST request"
   ]
  },
  {
   "cell_type": "code",
   "execution_count": null,
   "metadata": {},
   "outputs": [],
   "source": [
    "import requests\n",
    "\n",
    "sample = {\n",
    "    \"sample\": {\n",
    "        \"Sex_male\":{\"0\":1},\n",
    "        \"Fare\":{\"0\":7.8292},\n",
    "        \"Age\":{\"0\":34.5},\n",
    "        \"Pclass\":{\"0\":3},\n",
    "        \"SibSp\":{\"0\":0}\n",
    "    }\n",
    "}\n",
    "\n",
    "response = requests.post('http://localhost:5000/predict', json=sample)\n",
    "\n",
    "response.json()"
   ]
  },
  {
   "cell_type": "code",
   "execution_count": null,
   "metadata": {},
   "outputs": [],
   "source": []
  }
 ],
 "metadata": {
  "kernelspec": {
   "display_name": "Python 3",
   "language": "python",
   "name": "python3"
  },
  "language_info": {
   "codemirror_mode": {
    "name": "ipython",
    "version": 3
   },
   "file_extension": ".py",
   "mimetype": "text/x-python",
   "name": "python",
   "nbconvert_exporter": "python",
   "pygments_lexer": "ipython3",
   "version": "3.6.5"
  }
 },
 "nbformat": 4,
 "nbformat_minor": 2
}
